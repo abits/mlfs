{
 "cells": [
  {
   "cell_type": "markdown",
   "id": "f5a3d6e3-442c-49e9-abbb-42f837836879",
   "metadata": {},
   "source": [
    "# Pizzas and Reservations data\n",
    "Just load and plot basic statistical data."
   ]
  },
  {
   "cell_type": "code",
   "execution_count": null,
   "id": "d9a550f9-271f-4a4d-bbde-1ebf7e871399",
   "metadata": {
    "tags": []
   },
   "outputs": [],
   "source": [
    "import numpy as np\n",
    "import matplotlib.pyplot as plt\n",
    "import seaborn as sns\n",
    "\n",
    "sns.set()\n",
    "plt.axis([0, 50, 0, 50])\n",
    "plt.xticks(fontsize=10)\n",
    "plt.yticks(fontsize=10)\n",
    "plt.xlabel(\"Reservations\", fontsize=20)\n",
    "plt.ylabel(\"Pizzas\", fontsize=20)\n",
    "X, Y = np.loadtxt(\"/home/chm/src/mlfs/pizza.txt\", skiprows=1, unpack=True)\n",
    "plt.plot(X, Y, \"bo\")\n",
    "plt.show()"
   ]
  },
  {
   "cell_type": "markdown",
   "id": "ea8d3044-50b7-4013-9452-7b2cf0926189",
   "metadata": {},
   "source": [
    "## Linerare Regression\n",
    "Aus den Grunddaten soll mit Hilfe linerarer Regression eine Näherungskurve für den statistischen Verlauf ermittelt werden. Dazu müssen wir eine Gerade $y = x * w$ durch den Ursprung berechnen. Dabei steht $w$ für die Steigung der Geraden."
   ]
  },
  {
   "cell_type": "markdown",
   "id": "a013a911",
   "metadata": {},
   "source": []
  }
 ],
 "metadata": {
  "kernelspec": {
   "display_name": "Python 3 (ipykernel)",
   "language": "python",
   "name": "python3"
  },
  "language_info": {
   "codemirror_mode": {
    "name": "ipython",
    "version": 3
   },
   "file_extension": ".py",
   "mimetype": "text/x-python",
   "name": "python",
   "nbconvert_exporter": "python",
   "pygments_lexer": "ipython3",
   "version": "3.11.5"
  }
 },
 "nbformat": 4,
 "nbformat_minor": 5
}
